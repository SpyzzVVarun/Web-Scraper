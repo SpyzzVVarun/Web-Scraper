{
 "cells": [
  {
   "cell_type": "code",
   "execution_count": 1,
   "id": "8cef87c6",
   "metadata": {},
   "outputs": [],
   "source": [
    "import pandas as pd\n",
    "from bs4 import BeautifulSoup\n",
    "import requests\n",
    "import time\n",
    "from pathlib import Path"
   ]
  },
  {
   "cell_type": "code",
   "execution_count": 2,
   "id": "a23bf4b9",
   "metadata": {},
   "outputs": [
    {
     "name": "stdout",
     "output_type": "stream",
     "text": [
      "Enter Skills that you are not familliar with:\n",
      "django linux\n"
     ]
    }
   ],
   "source": [
    "print('Enter Skills that you are not familliar with:')\n",
    "un_skill = input().split()"
   ]
  },
  {
   "cell_type": "code",
   "execution_count": 3,
   "id": "269293e1",
   "metadata": {},
   "outputs": [
    {
     "name": "stdout",
     "output_type": "stream",
     "text": [
      "Searching for Recent Machine Learning Job Postings that dont require ['django', 'linux'].....\n"
     ]
    }
   ],
   "source": [
    "print(f'Searching for Recent Machine Learning Job Postings that dont require {un_skill}.....')"
   ]
  },
  {
   "cell_type": "code",
   "execution_count": null,
   "id": "5cfb1490",
   "metadata": {
    "scrolled": true
   },
   "outputs": [
    {
     "name": "stdout",
     "output_type": "stream",
     "text": [
      "Posts found : 6\n",
      "Posts found : 8\n",
      "Posts found : 9\n",
      "Posts found : 10\n",
      "Posts found : 11\n",
      "Posts found : 12\n",
      "Posts found : 13\n",
      "Posts found : 16\n",
      "Posts found : 20\n",
      "Posts found : 21\n",
      "Posts found : 23\n",
      "Waiting 10 mins.... \n"
     ]
    }
   ],
   "source": [
    "def not_in(un_skill,skills):\n",
    "    if un_skill not in skills:\n",
    "        return True\n",
    "    else:\n",
    "        return False\n",
    "    \n",
    "df = pd.DataFrame()\n",
    "pd.set_option('max_colwidth',1000)\n",
    "\n",
    "def find_jobs():\n",
    "    Index = []\n",
    "    Company_Name = []\n",
    "    Skills = []\n",
    "    More_Info = []\n",
    "    html = requests.get('https://www.timesjobs.com/candidate/job-search.html?searchType=personalizedSearch&from=submit&txtKeywords=Machine+Learning&txtLocation=').text\n",
    "    soup = BeautifulSoup(html,'lxml')\n",
    "    jobs = soup.findAll('li',class_='clearfix job-bx wht-shd-bx')\n",
    "    for index,job in enumerate(jobs):\n",
    "        date = job.find('span',class_='sim-posted').text\n",
    "        if 'few' in date:\n",
    "            company_name = job.find('h3',class_='joblist-comp-name').text.replace(' ','').strip()\n",
    "            skills = job.find('span',class_='srp-skills').text.replace(' ','').strip()\n",
    "            more_info = job.find('ul',class_='list-job-dtl clearfix').a['href'].strip()\n",
    "            if all(map(not_in,un_skill,skills.split())):\n",
    "                with  open(fr'C:\\Users\\nagpa\\OneDrive\\Desktop\\Job Posts/{index}.txt','w') as f:\n",
    "                    f.write(f'Company Name: {company_name}\\n')\n",
    "                    f.write(f'Required Skills: {skills}\\n')\n",
    "                    f.write(f'More Info: {more_info}')\n",
    "                print(f'Posts found : {index}')\n",
    "                Index.append(index)\n",
    "                Company_Name.append(company_name) \n",
    "                Skills.append(skills)\n",
    "                More_Info.append(more_info)\n",
    "                \n",
    "    df['Company Name'] = Company_Name\n",
    "    df.index = Index\n",
    "    df['Skills'] = Skills\n",
    "    df['More_Info'] = More_Info\n",
    "\n",
    "if __name__ == '__main__':\n",
    "    \n",
    "    while True:    \n",
    "        [f.unlink() for f in Path(r\"C:\\Users\\nagpa\\OneDrive\\Desktop\\Job Posts\").glob(\"*\") if f.is_file()] \n",
    "        find_jobs()\n",
    "        print('Waiting 10 mins.... ')\n",
    "        df.to_csv('Machine_Learning_Job_Posts.csv')\n",
    "        time.sleep(600)\n",
    "        "
   ]
  },
  {
   "cell_type": "code",
   "execution_count": null,
   "id": "ad7cf2c3",
   "metadata": {},
   "outputs": [],
   "source": []
  }
 ],
 "metadata": {
  "kernelspec": {
   "display_name": "Python 3 (ipykernel)",
   "language": "python",
   "name": "python3"
  },
  "language_info": {
   "codemirror_mode": {
    "name": "ipython",
    "version": 3
   },
   "file_extension": ".py",
   "mimetype": "text/x-python",
   "name": "python",
   "nbconvert_exporter": "python",
   "pygments_lexer": "ipython3",
   "version": "3.9.7"
  }
 },
 "nbformat": 4,
 "nbformat_minor": 5
}
